{
 "cells": [
  {
   "cell_type": "code",
   "execution_count": null,
   "metadata": {},
   "outputs": [],
   "source": [
    "!git clone https://github.com/xinpingwang/paper-with-code.git"
   ]
  },
  {
   "cell_type": "code",
   "execution_count": null,
   "metadata": {},
   "outputs": [],
   "source": [
    "import sys\n",
    "# 将项目根目录添加到 path 中\n",
    "sys.path.append('paper-with-code')"
   ]
  },
  {
   "cell_type": "markdown",
   "metadata": {},
   "source": [
    "导入需要的包"
   ]
  },
  {
   "cell_type": "code",
   "execution_count": null,
   "metadata": {},
   "outputs": [],
   "source": [
    "import os\n",
    "import numpy as np\n",
    "import torch\n",
    "from torch import nn\n",
    "from torch import optim\n",
    "\n",
    "import matplotlib.pyplot as plt\n",
    "%matplotlib inline\n",
    "%config InlineBackend.figure_format = 'retina'"
   ]
  },
  {
   "cell_type": "code",
   "execution_count": null,
   "metadata": {},
   "outputs": [],
   "source": [
    "from lenet.model.lenet import LeNet\n",
    "from lenet.utils import data_loader, trainer"
   ]
  },
  {
   "cell_type": "markdown",
   "metadata": {},
   "source": [
    "最大似然损失"
   ]
  },
  {
   "cell_type": "code",
   "execution_count": null,
   "metadata": {},
   "outputs": [],
   "source": [
    "class MLELoss(nn.Module):\n",
    "\n",
    "    def __init__(self):\n",
    "        super(MLELoss, self).__init__()\n",
    "\n",
    "    def forward(self, predict, label):\n",
    "        return predict.gather(1, label.view(-1, 1)).sum() / predict.size(0)"
   ]
  },
  {
   "cell_type": "markdown",
   "metadata": {},
   "source": [
    "学习速率"
   ]
  },
  {
   "cell_type": "code",
   "execution_count": null,
   "metadata": {},
   "outputs": [],
   "source": [
    "def get_learning_rate(epoch):\n",
    "    lr = 0\n",
    "    if epoch < 3:\n",
    "        lr = 0.0005\n",
    "    elif epoch < 6:\n",
    "        lr = 0.0002\n",
    "    elif epoch < 9:\n",
    "        lr = 0.0001\n",
    "    elif epoch < 13:\n",
    "        lr = 0.00005\n",
    "    else:\n",
    "        lr = 0.00001\n",
    "    return lr"
   ]
  },
  {
   "cell_type": "markdown",
   "metadata": {},
   "source": [
    "统计预测正确的数量"
   ]
  },
  {
   "cell_type": "code",
   "execution_count": null,
   "metadata": {},
   "outputs": [],
   "source": [
    "def accuracy_num(predict, label):\n",
    "    predict = np.argmin(predict.detach().cpu().numpy(), 1)\n",
    "    label = label.cpu().numpy()\n",
    "    return int((predict == label).sum())"
   ]
  },
  {
   "cell_type": "code",
   "execution_count": null,
   "metadata": {},
   "outputs": [],
   "source": [
    "MODEL_FILE = 'LeNet.pth'\n",
    "BATCH_SIZE = 256\n",
    "EPOCHS = 20\n",
    "\n",
    "device = torch.device('cuda:0' if torch.cuda.is_available() else 'cpu')"
   ]
  },
  {
   "cell_type": "code",
   "execution_count": null,
   "metadata": {},
   "outputs": [],
   "source": [
    "train_data_loader, test_data_loader = data_loader.load_data('./data', batch_size=BATCH_SIZE)\n",
    "model = LeNet()\n",
    "model.to(device)\n",
    "criterion = MLELoss()\n",
    "\n",
    "# LambdaLR 设置的学习速率是：初始学习速率 * lambda 函数返回的结果\n",
    "optimizer = optim.SGD(model.parameters(), lr=1)\n",
    "lr_scheduler = optim.lr_scheduler.LambdaLR(optimizer, lr_lambda=lambda epoch: get_learning_rate(epoch + 1))\n",
    "\n",
    "if os.path.exists(MODEL_FILE):\n",
    "    model.load_state_dict(torch.load(MODEL_FILE), map_location=device)\n",
    "    print('loaded model from {}'.format(MODEL_FILE))"
   ]
  },
  {
   "cell_type": "markdown",
   "metadata": {},
   "source": [
    "训练模型"
   ]
  },
  {
   "cell_type": "code",
   "execution_count": null,
   "metadata": {},
   "outputs": [],
   "source": [
    "train_acc_rates, val_acc_rates = trainer.train(model, train_data_loader, test_data_loader, criterion, optimizer,\n",
    "                                               accuracy_num, EPOCHS, lr_scheduler=lr_scheduler, checkpoint=MODEL_FILE,\n",
    "                                               device=device)"
   ]
  },
  {
   "cell_type": "markdown",
   "metadata": {},
   "source": [
    "可视化训练和验证正确率"
   ]
  },
  {
   "cell_type": "code",
   "execution_count": null,
   "metadata": {},
   "outputs": [],
   "source": [
    "x = np.arange(EPOCHS)\n",
    "plt.xlabel('epoches')\n",
    "plt.ylabel('acc rate')\n",
    "plt.plot(x, train_acc_rates)\n",
    "plt.plot(x, val_acc_rates)\n",
    "plt.legend(['training data', 'testing data'], loc='lower right')\n",
    "plt.show()"
   ]
  }
 ],
 "metadata": {
  "kernelspec": {
   "display_name": "Python 3",
   "language": "python",
   "name": "python3"
  },
  "language_info": {
   "codemirror_mode": {
    "name": "ipython",
    "version": 3
   },
   "file_extension": ".py",
   "mimetype": "text/x-python",
   "name": "python",
   "nbconvert_exporter": "python",
   "pygments_lexer": "ipython3",
   "version": "3.7.5"
  }
 },
 "nbformat": 4,
 "nbformat_minor": 4
}
